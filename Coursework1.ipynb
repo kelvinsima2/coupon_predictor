{
  "cells": [
    {
      "cell_type": "markdown",
      "metadata": {
        "id": "view-in-github",
        "colab_type": "text"
      },
      "source": [
        "<a href=\"https://colab.research.google.com/github/kelvinsima2/coupon_predictor/blob/main/Coursework1.ipynb\" target=\"_parent\"><img src=\"https://colab.research.google.com/assets/colab-badge.svg\" alt=\"Open In Colab\"/></a>"
      ]
    },
    {
      "cell_type": "markdown",
      "metadata": {
        "id": "Of_3ncKd2b2R"
      },
      "source": [
        "# Data Cleaning"
      ]
    },
    {
      "cell_type": "code",
      "execution_count": null,
      "metadata": {
        "id": "uM2buGwz2kxp",
        "colab": {
          "base_uri": "https://localhost:8080/",
          "height": 386
        },
        "outputId": "dde05fed-5fa3-4d95-b253-ef1c52b1fc88"
      },
      "outputs": [
        {
          "output_type": "execute_result",
          "data": {
            "text/plain": [
              "       destination  passanger weather  temperature  time  \\\n",
              "0  No Urgent Place      Alone   Sunny           55   2PM   \n",
              "1  No Urgent Place  Friend(s)   Sunny           80  10AM   \n",
              "2  No Urgent Place  Friend(s)   Sunny           80  10AM   \n",
              "3  No Urgent Place  Friend(s)   Sunny           80   2PM   \n",
              "4  No Urgent Place  Friend(s)   Sunny           80   2PM   \n",
              "\n",
              "                  coupon expiration  gender age      maritalStatus  ...  \\\n",
              "0        Restaurant(<20)         1d  Female  21  Unmarried partner  ...   \n",
              "1           Coffee House         2h  Female  21  Unmarried partner  ...   \n",
              "2  Carry out & Take away         2h  Female  21  Unmarried partner  ...   \n",
              "3           Coffee House         2h  Female  21  Unmarried partner  ...   \n",
              "4           Coffee House         1d  Female  21  Unmarried partner  ...   \n",
              "\n",
              "   CoffeeHouse CarryAway RestaurantLessThan20 Restaurant20To50  \\\n",
              "0        never       NaN                  4~8              1~3   \n",
              "1        never       NaN                  4~8              1~3   \n",
              "2        never       NaN                  4~8              1~3   \n",
              "3        never       NaN                  4~8              1~3   \n",
              "4        never       NaN                  4~8              1~3   \n",
              "\n",
              "  toCoupon_GEQ5min toCoupon_GEQ15min toCoupon_GEQ25min direction_same  \\\n",
              "0                1                 0                 0              0   \n",
              "1                1                 0                 0              0   \n",
              "2                1                 1                 0              0   \n",
              "3                1                 1                 0              0   \n",
              "4                1                 1                 0              0   \n",
              "\n",
              "  direction_opp  Y  \n",
              "0             1  1  \n",
              "1             1  0  \n",
              "2             1  1  \n",
              "3             1  0  \n",
              "4             1  0  \n",
              "\n",
              "[5 rows x 26 columns]"
            ],
            "text/html": [
              "\n",
              "  <div id=\"df-0d3b01c4-cf5d-4d2c-b874-31cad6edf9c5\">\n",
              "    <div class=\"colab-df-container\">\n",
              "      <div>\n",
              "<style scoped>\n",
              "    .dataframe tbody tr th:only-of-type {\n",
              "        vertical-align: middle;\n",
              "    }\n",
              "\n",
              "    .dataframe tbody tr th {\n",
              "        vertical-align: top;\n",
              "    }\n",
              "\n",
              "    .dataframe thead th {\n",
              "        text-align: right;\n",
              "    }\n",
              "</style>\n",
              "<table border=\"1\" class=\"dataframe\">\n",
              "  <thead>\n",
              "    <tr style=\"text-align: right;\">\n",
              "      <th></th>\n",
              "      <th>destination</th>\n",
              "      <th>passanger</th>\n",
              "      <th>weather</th>\n",
              "      <th>temperature</th>\n",
              "      <th>time</th>\n",
              "      <th>coupon</th>\n",
              "      <th>expiration</th>\n",
              "      <th>gender</th>\n",
              "      <th>age</th>\n",
              "      <th>maritalStatus</th>\n",
              "      <th>...</th>\n",
              "      <th>CoffeeHouse</th>\n",
              "      <th>CarryAway</th>\n",
              "      <th>RestaurantLessThan20</th>\n",
              "      <th>Restaurant20To50</th>\n",
              "      <th>toCoupon_GEQ5min</th>\n",
              "      <th>toCoupon_GEQ15min</th>\n",
              "      <th>toCoupon_GEQ25min</th>\n",
              "      <th>direction_same</th>\n",
              "      <th>direction_opp</th>\n",
              "      <th>Y</th>\n",
              "    </tr>\n",
              "  </thead>\n",
              "  <tbody>\n",
              "    <tr>\n",
              "      <th>0</th>\n",
              "      <td>No Urgent Place</td>\n",
              "      <td>Alone</td>\n",
              "      <td>Sunny</td>\n",
              "      <td>55</td>\n",
              "      <td>2PM</td>\n",
              "      <td>Restaurant(&lt;20)</td>\n",
              "      <td>1d</td>\n",
              "      <td>Female</td>\n",
              "      <td>21</td>\n",
              "      <td>Unmarried partner</td>\n",
              "      <td>...</td>\n",
              "      <td>never</td>\n",
              "      <td>NaN</td>\n",
              "      <td>4~8</td>\n",
              "      <td>1~3</td>\n",
              "      <td>1</td>\n",
              "      <td>0</td>\n",
              "      <td>0</td>\n",
              "      <td>0</td>\n",
              "      <td>1</td>\n",
              "      <td>1</td>\n",
              "    </tr>\n",
              "    <tr>\n",
              "      <th>1</th>\n",
              "      <td>No Urgent Place</td>\n",
              "      <td>Friend(s)</td>\n",
              "      <td>Sunny</td>\n",
              "      <td>80</td>\n",
              "      <td>10AM</td>\n",
              "      <td>Coffee House</td>\n",
              "      <td>2h</td>\n",
              "      <td>Female</td>\n",
              "      <td>21</td>\n",
              "      <td>Unmarried partner</td>\n",
              "      <td>...</td>\n",
              "      <td>never</td>\n",
              "      <td>NaN</td>\n",
              "      <td>4~8</td>\n",
              "      <td>1~3</td>\n",
              "      <td>1</td>\n",
              "      <td>0</td>\n",
              "      <td>0</td>\n",
              "      <td>0</td>\n",
              "      <td>1</td>\n",
              "      <td>0</td>\n",
              "    </tr>\n",
              "    <tr>\n",
              "      <th>2</th>\n",
              "      <td>No Urgent Place</td>\n",
              "      <td>Friend(s)</td>\n",
              "      <td>Sunny</td>\n",
              "      <td>80</td>\n",
              "      <td>10AM</td>\n",
              "      <td>Carry out &amp; Take away</td>\n",
              "      <td>2h</td>\n",
              "      <td>Female</td>\n",
              "      <td>21</td>\n",
              "      <td>Unmarried partner</td>\n",
              "      <td>...</td>\n",
              "      <td>never</td>\n",
              "      <td>NaN</td>\n",
              "      <td>4~8</td>\n",
              "      <td>1~3</td>\n",
              "      <td>1</td>\n",
              "      <td>1</td>\n",
              "      <td>0</td>\n",
              "      <td>0</td>\n",
              "      <td>1</td>\n",
              "      <td>1</td>\n",
              "    </tr>\n",
              "    <tr>\n",
              "      <th>3</th>\n",
              "      <td>No Urgent Place</td>\n",
              "      <td>Friend(s)</td>\n",
              "      <td>Sunny</td>\n",
              "      <td>80</td>\n",
              "      <td>2PM</td>\n",
              "      <td>Coffee House</td>\n",
              "      <td>2h</td>\n",
              "      <td>Female</td>\n",
              "      <td>21</td>\n",
              "      <td>Unmarried partner</td>\n",
              "      <td>...</td>\n",
              "      <td>never</td>\n",
              "      <td>NaN</td>\n",
              "      <td>4~8</td>\n",
              "      <td>1~3</td>\n",
              "      <td>1</td>\n",
              "      <td>1</td>\n",
              "      <td>0</td>\n",
              "      <td>0</td>\n",
              "      <td>1</td>\n",
              "      <td>0</td>\n",
              "    </tr>\n",
              "    <tr>\n",
              "      <th>4</th>\n",
              "      <td>No Urgent Place</td>\n",
              "      <td>Friend(s)</td>\n",
              "      <td>Sunny</td>\n",
              "      <td>80</td>\n",
              "      <td>2PM</td>\n",
              "      <td>Coffee House</td>\n",
              "      <td>1d</td>\n",
              "      <td>Female</td>\n",
              "      <td>21</td>\n",
              "      <td>Unmarried partner</td>\n",
              "      <td>...</td>\n",
              "      <td>never</td>\n",
              "      <td>NaN</td>\n",
              "      <td>4~8</td>\n",
              "      <td>1~3</td>\n",
              "      <td>1</td>\n",
              "      <td>1</td>\n",
              "      <td>0</td>\n",
              "      <td>0</td>\n",
              "      <td>1</td>\n",
              "      <td>0</td>\n",
              "    </tr>\n",
              "  </tbody>\n",
              "</table>\n",
              "<p>5 rows × 26 columns</p>\n",
              "</div>\n",
              "      <button class=\"colab-df-convert\" onclick=\"convertToInteractive('df-0d3b01c4-cf5d-4d2c-b874-31cad6edf9c5')\"\n",
              "              title=\"Convert this dataframe to an interactive table.\"\n",
              "              style=\"display:none;\">\n",
              "        \n",
              "  <svg xmlns=\"http://www.w3.org/2000/svg\" height=\"24px\"viewBox=\"0 0 24 24\"\n",
              "       width=\"24px\">\n",
              "    <path d=\"M0 0h24v24H0V0z\" fill=\"none\"/>\n",
              "    <path d=\"M18.56 5.44l.94 2.06.94-2.06 2.06-.94-2.06-.94-.94-2.06-.94 2.06-2.06.94zm-11 1L8.5 8.5l.94-2.06 2.06-.94-2.06-.94L8.5 2.5l-.94 2.06-2.06.94zm10 10l.94 2.06.94-2.06 2.06-.94-2.06-.94-.94-2.06-.94 2.06-2.06.94z\"/><path d=\"M17.41 7.96l-1.37-1.37c-.4-.4-.92-.59-1.43-.59-.52 0-1.04.2-1.43.59L10.3 9.45l-7.72 7.72c-.78.78-.78 2.05 0 2.83L4 21.41c.39.39.9.59 1.41.59.51 0 1.02-.2 1.41-.59l7.78-7.78 2.81-2.81c.8-.78.8-2.07 0-2.86zM5.41 20L4 18.59l7.72-7.72 1.47 1.35L5.41 20z\"/>\n",
              "  </svg>\n",
              "      </button>\n",
              "      \n",
              "  <style>\n",
              "    .colab-df-container {\n",
              "      display:flex;\n",
              "      flex-wrap:wrap;\n",
              "      gap: 12px;\n",
              "    }\n",
              "\n",
              "    .colab-df-convert {\n",
              "      background-color: #E8F0FE;\n",
              "      border: none;\n",
              "      border-radius: 50%;\n",
              "      cursor: pointer;\n",
              "      display: none;\n",
              "      fill: #1967D2;\n",
              "      height: 32px;\n",
              "      padding: 0 0 0 0;\n",
              "      width: 32px;\n",
              "    }\n",
              "\n",
              "    .colab-df-convert:hover {\n",
              "      background-color: #E2EBFA;\n",
              "      box-shadow: 0px 1px 2px rgba(60, 64, 67, 0.3), 0px 1px 3px 1px rgba(60, 64, 67, 0.15);\n",
              "      fill: #174EA6;\n",
              "    }\n",
              "\n",
              "    [theme=dark] .colab-df-convert {\n",
              "      background-color: #3B4455;\n",
              "      fill: #D2E3FC;\n",
              "    }\n",
              "\n",
              "    [theme=dark] .colab-df-convert:hover {\n",
              "      background-color: #434B5C;\n",
              "      box-shadow: 0px 1px 3px 1px rgba(0, 0, 0, 0.15);\n",
              "      filter: drop-shadow(0px 1px 2px rgba(0, 0, 0, 0.3));\n",
              "      fill: #FFFFFF;\n",
              "    }\n",
              "  </style>\n",
              "\n",
              "      <script>\n",
              "        const buttonEl =\n",
              "          document.querySelector('#df-0d3b01c4-cf5d-4d2c-b874-31cad6edf9c5 button.colab-df-convert');\n",
              "        buttonEl.style.display =\n",
              "          google.colab.kernel.accessAllowed ? 'block' : 'none';\n",
              "\n",
              "        async function convertToInteractive(key) {\n",
              "          const element = document.querySelector('#df-0d3b01c4-cf5d-4d2c-b874-31cad6edf9c5');\n",
              "          const dataTable =\n",
              "            await google.colab.kernel.invokeFunction('convertToInteractive',\n",
              "                                                     [key], {});\n",
              "          if (!dataTable) return;\n",
              "\n",
              "          const docLinkHtml = 'Like what you see? Visit the ' +\n",
              "            '<a target=\"_blank\" href=https://colab.research.google.com/notebooks/data_table.ipynb>data table notebook</a>'\n",
              "            + ' to learn more about interactive tables.';\n",
              "          element.innerHTML = '';\n",
              "          dataTable['output_type'] = 'display_data';\n",
              "          await google.colab.output.renderOutput(dataTable, element);\n",
              "          const docLink = document.createElement('div');\n",
              "          docLink.innerHTML = docLinkHtml;\n",
              "          element.appendChild(docLink);\n",
              "        }\n",
              "      </script>\n",
              "    </div>\n",
              "  </div>\n",
              "  "
            ]
          },
          "metadata": {},
          "execution_count": 1
        }
      ],
      "source": [
        "# Import necessary libraries, load then display dataset.\n",
        "import pandas as pd\n",
        "import numpy as np\n",
        "import matplotlib.pyplot as plt\n",
        "df= pd.read_csv('https://archive.ics.uci.edu/ml/machine-learning-databases/00603/in-vehicle-coupon-recommendation.csv')\n",
        "df.head()"
      ]
    },
    {
      "cell_type": "code",
      "execution_count": null,
      "metadata": {
        "id": "j9xWNISC2qh2",
        "colab": {
          "base_uri": "https://localhost:8080/"
        },
        "outputId": "9b1b18ed-2390-4f27-92e9-e59ed0990c09"
      },
      "outputs": [
        {
          "output_type": "execute_result",
          "data": {
            "text/plain": [
              "Index(['destination', 'passanger', 'weather', 'temperature', 'time', 'coupon',\n",
              "       'expiration', 'gender', 'age', 'maritalStatus', 'has_children',\n",
              "       'education', 'occupation', 'income', 'car', 'Bar', 'CoffeeHouse',\n",
              "       'CarryAway', 'RestaurantLessThan20', 'Restaurant20To50',\n",
              "       'toCoupon_GEQ5min', 'toCoupon_GEQ15min', 'toCoupon_GEQ25min',\n",
              "       'direction_same', 'direction_opp', 'Y'],\n",
              "      dtype='object')"
            ]
          },
          "metadata": {},
          "execution_count": 2
        }
      ],
      "source": [
        "# Check column names\n",
        "df.columns"
      ]
    },
    {
      "cell_type": "code",
      "execution_count": null,
      "metadata": {
        "id": "Li7iMMAN2uwT",
        "colab": {
          "base_uri": "https://localhost:8080/"
        },
        "outputId": "ddb42fc1-354c-4d6d-92f8-157c6b6b3ea9"
      },
      "outputs": [
        {
          "output_type": "execute_result",
          "data": {
            "text/plain": [
              "(12684, 26)"
            ]
          },
          "metadata": {},
          "execution_count": 3
        }
      ],
      "source": [
        "# Check shape of dataframe\n",
        "df.shape"
      ]
    },
    {
      "cell_type": "code",
      "execution_count": null,
      "metadata": {
        "id": "JwWVD0LW2xI3",
        "colab": {
          "base_uri": "https://localhost:8080/"
        },
        "outputId": "8de13fa0-0b7b-4117-b07f-e132ccd201b6"
      },
      "outputs": [
        {
          "output_type": "execute_result",
          "data": {
            "text/plain": [
              "destination                 0\n",
              "passanger                   0\n",
              "weather                     0\n",
              "temperature                 0\n",
              "time                        0\n",
              "coupon                      0\n",
              "expiration                  0\n",
              "gender                      0\n",
              "age                         0\n",
              "maritalStatus               0\n",
              "has_children                0\n",
              "education                   0\n",
              "occupation                  0\n",
              "income                      0\n",
              "car                     12576\n",
              "Bar                       107\n",
              "CoffeeHouse               217\n",
              "CarryAway                 151\n",
              "RestaurantLessThan20      130\n",
              "Restaurant20To50          189\n",
              "toCoupon_GEQ5min            0\n",
              "toCoupon_GEQ15min           0\n",
              "toCoupon_GEQ25min           0\n",
              "direction_same              0\n",
              "direction_opp               0\n",
              "Y                           0\n",
              "dtype: int64"
            ]
          },
          "metadata": {},
          "execution_count": 4
        }
      ],
      "source": [
        "# Display which columns have missing values\n",
        "df.isna().sum()"
      ]
    },
    {
      "cell_type": "code",
      "source": [
        "# Plot missing values\n",
        "df_na = pd.DataFrame(df.isna().sum())\n",
        "df_na = df_na.reset_index(level=0)\n",
        "df_na.columns = [\"column\", \"number_of_na\"]\n",
        "df_na = df_na[df_na['number_of_na'] > 0]\n",
        "df_na\n",
        "plt.barh(df_na['column'], df_na['number_of_na'])\n",
        "plt.xlabel('Number of Missing Values')\n",
        "plt.ylabel(\"Features\")\n",
        "plt.show()\n",
        "plt.savefig(\"missing_na.png\", bbox_inches='tight')\n",
        "\n"
      ],
      "metadata": {
        "colab": {
          "base_uri": "https://localhost:8080/",
          "height": 297
        },
        "id": "Fd2ewfiL93Qz",
        "outputId": "763750ab-fe9e-48cb-80af-81b59121b2e4"
      },
      "execution_count": null,
      "outputs": [
        {
          "output_type": "display_data",
          "data": {
            "text/plain": [
              "<Figure size 432x288 with 1 Axes>"
            ],
            "image/png": "[encoded data removed]"
          },
          "metadata": {
            "needs_background": "light"
          }
        },
        {
          "output_type": "display_data",
          "data": {
            "text/plain": [
              "<Figure size 432x288 with 0 Axes>"
            ]
          },
          "metadata": {}
        }
      ]
    },
    {
      "cell_type": "code",
      "execution_count": null,
      "metadata": {
        "id": "ER_nW9cn2zGW"
      },
      "outputs": [],
      "source": [
        "# The column car has too many NaN values, and hence it is better to drop it as a feature.\n",
        "df.drop('car', axis = 1, inplace = True)"
      ]
    },
    {
      "cell_type": "code",
      "execution_count": null,
      "metadata": {
        "id": "k0qnB9wO21u8",
        "colab": {
          "base_uri": "https://localhost:8080/"
        },
        "outputId": "b67c23ed-016d-4a03-9dd6-146522e648f9"
      },
      "outputs": [
        {
          "output_type": "stream",
          "name": "stdout",
          "text": [
            "{nan, '4~8', 'never', 'gt8', '1~3', 'less1'}\n",
            "{nan, '4~8', 'never', 'gt8', '1~3', 'less1'}\n",
            "{nan, '4~8', 'never', 'gt8', '1~3', 'less1'}\n",
            "{nan, '4~8', 'never', 'gt8', '1~3', 'less1'}\n",
            "{nan, '4~8', 'never', 'gt8', '1~3', 'less1'}\n"
          ]
        }
      ],
      "source": [
        "# We will then check the contents of the columns with NaN values.\n",
        "\n",
        "columns = ['Bar', 'CoffeeHouse', 'CarryAway', 'RestaurantLessThan20', 'Restaurant20To50']\n",
        "\n",
        "for column in columns:\n",
        "    print(set(df[column]))"
      ]
    },
    {
      "cell_type": "code",
      "execution_count": null,
      "metadata": {
        "id": "ZFevraQ423nC"
      },
      "outputs": [],
      "source": [
        "# Remove rows that have NaN values\n",
        "df.dropna(inplace = True)"
      ]
    },
    {
      "cell_type": "code",
      "execution_count": null,
      "metadata": {
        "id": "AIMCVSg626N3",
        "colab": {
          "base_uri": "https://localhost:8080/"
        },
        "outputId": "7493de3a-b3f5-4ece-f401-3af5c82ca40e"
      },
      "outputs": [
        {
          "output_type": "execute_result",
          "data": {
            "text/plain": [
              "destination             0\n",
              "passanger               0\n",
              "weather                 0\n",
              "temperature             0\n",
              "time                    0\n",
              "coupon                  0\n",
              "expiration              0\n",
              "gender                  0\n",
              "age                     0\n",
              "maritalStatus           0\n",
              "has_children            0\n",
              "education               0\n",
              "occupation              0\n",
              "income                  0\n",
              "Bar                     0\n",
              "CoffeeHouse             0\n",
              "CarryAway               0\n",
              "RestaurantLessThan20    0\n",
              "Restaurant20To50        0\n",
              "toCoupon_GEQ5min        0\n",
              "toCoupon_GEQ15min       0\n",
              "toCoupon_GEQ25min       0\n",
              "direction_same          0\n",
              "direction_opp           0\n",
              "Y                       0\n",
              "dtype: int64"
            ]
          },
          "metadata": {},
          "execution_count": 9
        }
      ],
      "source": [
        "# Confirm dataframe has no missing values\n",
        "df.isna().sum()"
      ]
    },
    {
      "cell_type": "code",
      "source": [
        "# Check categorical valies of temperature and time and Y (target) columns.\n",
        "columns = ['temperature', 'time', 'Y']\n",
        "\n",
        "for column in columns:\n",
        "    print(set(df[column]))"
      ],
      "metadata": {
        "colab": {
          "base_uri": "https://localhost:8080/"
        },
        "id": "P9Q-fUgwEzfU",
        "outputId": "97beb5dd-1660-4003-8a06-e6306b7ea5b2"
      },
      "execution_count": null,
      "outputs": [
        {
          "output_type": "stream",
          "name": "stdout",
          "text": [
            "{80, 30, 55}\n",
            "{'10PM', '7AM', '2PM', '10AM', '6PM'}\n",
            "{0, 1}\n"
          ]
        }
      ]
    },
    {
      "cell_type": "code",
      "execution_count": null,
      "metadata": {
        "id": "kq00OTfI28ON",
        "colab": {
          "base_uri": "https://localhost:8080/",
          "height": 300
        },
        "outputId": "ac74cbf0-fe64-4fcd-9a09-f12b741d1e72"
      },
      "outputs": [
        {
          "output_type": "execute_result",
          "data": {
            "text/plain": [
              "        temperature  has_children  toCoupon_GEQ5min  toCoupon_GEQ15min  \\\n",
              "count  12079.000000  12079.000000           12079.0       12079.000000   \n",
              "mean      63.334713      0.408478               1.0           0.561222   \n",
              "std       19.133246      0.491573               0.0           0.496258   \n",
              "min       30.000000      0.000000               1.0           0.000000   \n",
              "25%       55.000000      0.000000               1.0           0.000000   \n",
              "50%       80.000000      0.000000               1.0           1.000000   \n",
              "75%       80.000000      1.000000               1.0           1.000000   \n",
              "max       80.000000      1.000000               1.0           1.000000   \n",
              "\n",
              "       toCoupon_GEQ25min  direction_same  direction_opp             Y  \n",
              "count       12079.000000    12079.000000   12079.000000  12079.000000  \n",
              "mean            0.119381        0.215167       0.784833      0.569335  \n",
              "std             0.324249        0.410955       0.410955      0.495190  \n",
              "min             0.000000        0.000000       0.000000      0.000000  \n",
              "25%             0.000000        0.000000       1.000000      0.000000  \n",
              "50%             0.000000        0.000000       1.000000      1.000000  \n",
              "75%             0.000000        0.000000       1.000000      1.000000  \n",
              "max             1.000000        1.000000       1.000000      1.000000  "
            ],
            "text/html": [
              "\n",
              "  <div id=\"df-735df534-0426-41ff-9611-54bc72cee583\">\n",
              "    <div class=\"colab-df-container\">\n",
              "      <div>\n",
              "<style scoped>\n",
              "    .dataframe tbody tr th:only-of-type {\n",
              "        vertical-align: middle;\n",
              "    }\n",
              "\n",
              "    .dataframe tbody tr th {\n",
              "        vertical-align: top;\n",
              "    }\n",
              "\n",
              "    .dataframe thead th {\n",
              "        text-align: right;\n",
              "    }\n",
              "</style>\n",
              "<table border=\"1\" class=\"dataframe\">\n",
              "  <thead>\n",
              "    <tr style=\"text-align: right;\">\n",
              "      <th></th>\n",
              "      <th>temperature</th>\n",
              "      <th>has_children</th>\n",
              "      <th>toCoupon_GEQ5min</th>\n",
              "      <th>toCoupon_GEQ15min</th>\n",
              "      <th>toCoupon_GEQ25min</th>\n",
              "      <th>direction_same</th>\n",
              "      <th>direction_opp</th>\n",
              "      <th>Y</th>\n",
              "    </tr>\n",
              "  </thead>\n",
              "  <tbody>\n",
              "    <tr>\n",
              "      <th>count</th>\n",
              "      <td>12079.000000</td>\n",
              "      <td>12079.000000</td>\n",
              "      <td>12079.0</td>\n",
              "      <td>12079.000000</td>\n",
              "      <td>12079.000000</td>\n",
              "      <td>12079.000000</td>\n",
              "      <td>12079.000000</td>\n",
              "      <td>12079.000000</td>\n",
              "    </tr>\n",
              "    <tr>\n",
              "      <th>mean</th>\n",
              "      <td>63.334713</td>\n",
              "      <td>0.408478</td>\n",
              "      <td>1.0</td>\n",
              "      <td>0.561222</td>\n",
              "      <td>0.119381</td>\n",
              "      <td>0.215167</td>\n",
              "      <td>0.784833</td>\n",
              "      <td>0.569335</td>\n",
              "    </tr>\n",
              "    <tr>\n",
              "      <th>std</th>\n",
              "      <td>19.133246</td>\n",
              "      <td>0.491573</td>\n",
              "      <td>0.0</td>\n",
              "      <td>0.496258</td>\n",
              "      <td>0.324249</td>\n",
              "      <td>0.410955</td>\n",
              "      <td>0.410955</td>\n",
              "      <td>0.495190</td>\n",
              "    </tr>\n",
              "    <tr>\n",
              "      <th>min</th>\n",
              "      <td>30.000000</td>\n",
              "      <td>0.000000</td>\n",
              "      <td>1.0</td>\n",
              "      <td>0.000000</td>\n",
              "      <td>0.000000</td>\n",
              "      <td>0.000000</td>\n",
              "      <td>0.000000</td>\n",
              "      <td>0.000000</td>\n",
              "    </tr>\n",
              "    <tr>\n",
              "      <th>25%</th>\n",
              "      <td>55.000000</td>\n",
              "      <td>0.000000</td>\n",
              "      <td>1.0</td>\n",
              "      <td>0.000000</td>\n",
              "      <td>0.000000</td>\n",
              "      <td>0.000000</td>\n",
              "      <td>1.000000</td>\n",
              "      <td>0.000000</td>\n",
              "    </tr>\n",
              "    <tr>\n",
              "      <th>50%</th>\n",
              "      <td>80.000000</td>\n",
              "      <td>0.000000</td>\n",
              "      <td>1.0</td>\n",
              "      <td>1.000000</td>\n",
              "      <td>0.000000</td>\n",
              "      <td>0.000000</td>\n",
              "      <td>1.000000</td>\n",
              "      <td>1.000000</td>\n",
              "    </tr>\n",
              "    <tr>\n",
              "      <th>75%</th>\n",
              "      <td>80.000000</td>\n",
              "      <td>1.000000</td>\n",
              "      <td>1.0</td>\n",
              "      <td>1.000000</td>\n",
              "      <td>0.000000</td>\n",
              "      <td>0.000000</td>\n",
              "      <td>1.000000</td>\n",
              "      <td>1.000000</td>\n",
              "    </tr>\n",
              "    <tr>\n",
              "      <th>max</th>\n",
              "      <td>80.000000</td>\n",
              "      <td>1.000000</td>\n",
              "      <td>1.0</td>\n",
              "      <td>1.000000</td>\n",
              "      <td>1.000000</td>\n",
              "      <td>1.000000</td>\n",
              "      <td>1.000000</td>\n",
              "      <td>1.000000</td>\n",
              "    </tr>\n",
              "  </tbody>\n",
              "</table>\n",
              "</div>\n",
              "      <button class=\"colab-df-convert\" onclick=\"convertToInteractive('df-735df534-0426-41ff-9611-54bc72cee583')\"\n",
              "              title=\"Convert this dataframe to an interactive table.\"\n",
              "              style=\"display:none;\">\n",
              "        \n",
              "  <svg xmlns=\"http://www.w3.org/2000/svg\" height=\"24px\"viewBox=\"0 0 24 24\"\n",
              "       width=\"24px\">\n",
              "    <path d=\"M0 0h24v24H0V0z\" fill=\"none\"/>\n",
              "    <path d=\"M18.56 5.44l.94 2.06.94-2.06 2.06-.94-2.06-.94-.94-2.06-.94 2.06-2.06.94zm-11 1L8.5 8.5l.94-2.06 2.06-.94-2.06-.94L8.5 2.5l-.94 2.06-2.06.94zm10 10l.94 2.06.94-2.06 2.06-.94-2.06-.94-.94-2.06-.94 2.06-2.06.94z\"/><path d=\"M17.41 7.96l-1.37-1.37c-.4-.4-.92-.59-1.43-.59-.52 0-1.04.2-1.43.59L10.3 9.45l-7.72 7.72c-.78.78-.78 2.05 0 2.83L4 21.41c.39.39.9.59 1.41.59.51 0 1.02-.2 1.41-.59l7.78-7.78 2.81-2.81c.8-.78.8-2.07 0-2.86zM5.41 20L4 18.59l7.72-7.72 1.47 1.35L5.41 20z\"/>\n",
              "  </svg>\n",
              "      </button>\n",
              "      \n",
              "  <style>\n",
              "    .colab-df-container {\n",
              "      display:flex;\n",
              "      flex-wrap:wrap;\n",
              "      gap: 12px;\n",
              "    }\n",
              "\n",
              "    .colab-df-convert {\n",
              "      background-color: #E8F0FE;\n",
              "      border: none;\n",
              "      border-radius: 50%;\n",
              "      cursor: pointer;\n",
              "      display: none;\n",
              "      fill: #1967D2;\n",
              "      height: 32px;\n",
              "      padding: 0 0 0 0;\n",
              "      width: 32px;\n",
              "    }\n",
              "\n",
              "    .colab-df-convert:hover {\n",
              "      background-color: #E2EBFA;\n",
              "      box-shadow: 0px 1px 2px rgba(60, 64, 67, 0.3), 0px 1px 3px 1px rgba(60, 64, 67, 0.15);\n",
              "      fill: #174EA6;\n",
              "    }\n",
              "\n",
              "    [theme=dark] .colab-df-convert {\n",
              "      background-color: #3B4455;\n",
              "      fill: #D2E3FC;\n",
              "    }\n",
              "\n",
              "    [theme=dark] .colab-df-convert:hover {\n",
              "      background-color: #434B5C;\n",
              "      box-shadow: 0px 1px 3px 1px rgba(0, 0, 0, 0.15);\n",
              "      filter: drop-shadow(0px 1px 2px rgba(0, 0, 0, 0.3));\n",
              "      fill: #FFFFFF;\n",
              "    }\n",
              "  </style>\n",
              "\n",
              "      <script>\n",
              "        const buttonEl =\n",
              "          document.querySelector('#df-735df534-0426-41ff-9611-54bc72cee583 button.colab-df-convert');\n",
              "        buttonEl.style.display =\n",
              "          google.colab.kernel.accessAllowed ? 'block' : 'none';\n",
              "\n",
              "        async function convertToInteractive(key) {\n",
              "          const element = document.querySelector('#df-735df534-0426-41ff-9611-54bc72cee583');\n",
              "          const dataTable =\n",
              "            await google.colab.kernel.invokeFunction('convertToInteractive',\n",
              "                                                     [key], {});\n",
              "          if (!dataTable) return;\n",
              "\n",
              "          const docLinkHtml = 'Like what you see? Visit the ' +\n",
              "            '<a target=\"_blank\" href=https://colab.research.google.com/notebooks/data_table.ipynb>data table notebook</a>'\n",
              "            + ' to learn more about interactive tables.';\n",
              "          element.innerHTML = '';\n",
              "          dataTable['output_type'] = 'display_data';\n",
              "          await google.colab.output.renderOutput(dataTable, element);\n",
              "          const docLink = document.createElement('div');\n",
              "          docLink.innerHTML = docLinkHtml;\n",
              "          element.appendChild(docLink);\n",
              "        }\n",
              "      </script>\n",
              "    </div>\n",
              "  </div>\n",
              "  "
            ]
          },
          "metadata": {},
          "execution_count": 11
        }
      ],
      "source": [
        "# Check summary statistics of numerical columns\n",
        "df.describe()"
      ]
    },
    {
      "cell_type": "code",
      "execution_count": null,
      "metadata": {
        "id": "NM4EBF8l2_fC"
      },
      "outputs": [],
      "source": [
        "# Remover unnecessary feature that has all values as 1.\n",
        "df.drop('toCoupon_GEQ5min', axis = 1, inplace = True)"
      ]
    },
    {
      "cell_type": "markdown",
      "metadata": {
        "id": "nGOuKWpk3Esa"
      },
      "source": [
        "# Pre-Processing"
      ]
    },
    {
      "cell_type": "code",
      "execution_count": null,
      "metadata": {
        "id": "u-f26Uly3Dre",
        "colab": {
          "base_uri": "https://localhost:8080/"
        },
        "outputId": "2b5142df-c7e9-4e51-f757-91ebc7b41ec0"
      },
      "outputs": [
        {
          "output_type": "stream",
          "name": "stdout",
          "text": [
            "destination             object\n",
            "passanger               object\n",
            "weather                 object\n",
            "temperature              int64\n",
            "time                    object\n",
            "coupon                  object\n",
            "expiration              object\n",
            "gender                  object\n",
            "age                     object\n",
            "maritalStatus           object\n",
            "has_children             int64\n",
            "education               object\n",
            "occupation              object\n",
            "income                  object\n",
            "Bar                     object\n",
            "CoffeeHouse             object\n",
            "CarryAway               object\n",
            "RestaurantLessThan20    object\n",
            "Restaurant20To50        object\n",
            "toCoupon_GEQ15min        int64\n",
            "toCoupon_GEQ25min        int64\n",
            "direction_same           int64\n",
            "direction_opp            int64\n",
            "Y                        int64\n",
            "dtype: object\n"
          ]
        }
      ],
      "source": [
        "# Check datatype of each column.\n",
        "print(df.dtypes)"
      ]
    },
    {
      "cell_type": "code",
      "execution_count": null,
      "metadata": {
        "id": "r0kBLl1M3NLG"
      },
      "outputs": [],
      "source": [
        "# Select features that are of text type and one hot encode them.\n",
        "# Temperature is also one-hot encoded since its values are categorical.\n",
        "# Code adapted from:\n",
        "# [https://stackoverflow.com/questions/45836794/selecting-string-columns-in-pandas-df-equivalent-to-df-select-dtypes]\n",
        "str_df = pd.DataFrame(df.applymap(lambda x: isinstance(x, str)).all(0))\n",
        "str_columns = list(str_df[str_df[0] == True].index) + ['temperature']\n",
        "str_columns\n",
        "df_dummies = pd.get_dummies(df, columns = str_columns)"
      ]
    },
    {
      "cell_type": "code",
      "execution_count": null,
      "metadata": {
        "id": "iivWIOnt3PiH",
        "colab": {
          "base_uri": "https://localhost:8080/"
        },
        "outputId": "43489eb3-96d3-4663-a011-dcb287beb287"
      },
      "outputs": [
        {
          "output_type": "execute_result",
          "data": {
            "text/plain": [
              "(12079, 110)"
            ]
          },
          "metadata": {},
          "execution_count": 15
        }
      ],
      "source": [
        "# Separate features from the target variable and check shape\n",
        "coupon_features = np.asarray(df_dummies.loc[:, df_dummies.columns != 'Y'])\n",
        "coupon_target = np.asarray(df_dummies.loc[:, df_dummies.columns == 'Y'])\n",
        "coupon_features.shape"
      ]
    },
    {
      "cell_type": "code",
      "execution_count": null,
      "metadata": {
        "id": "M-A9n66p3RrX",
        "colab": {
          "base_uri": "https://localhost:8080/"
        },
        "outputId": "f6962de1-7dd9-4c0d-8aa5-f54fa09125c6"
      },
      "outputs": [
        {
          "output_type": "execute_result",
          "data": {
            "text/plain": [
              "(12079, 80)"
            ]
          },
          "metadata": {},
          "execution_count": 16
        }
      ],
      "source": [
        "# Use principal component analysis to reduce data into fewer dimensions. \n",
        "# Number of features are reduces to 80.\n",
        "from sklearn.decomposition import PCA\n",
        "pca = PCA(n_components=80)\n",
        "principalComponents = pca.fit_transform(coupon_features)\n",
        "principalComponents.shape"
      ]
    },
    {
      "cell_type": "markdown",
      "metadata": {
        "id": "v-NAug6g3XVa"
      },
      "source": [
        "# Training Data"
      ]
    },
    {
      "cell_type": "code",
      "execution_count": null,
      "metadata": {
        "id": "KxuoSaEy3T_8"
      },
      "outputs": [],
      "source": [
        "X = principalComponents\n",
        "y = np.ravel(coupon_target)\n",
        "\n",
        "# Split data into a training set and testing set.\n",
        "from sklearn.model_selection import train_test_split\n",
        "X_train, X_test, y_train, y_test = train_test_split(X, y, test_size=0.30, random_state=42)"
      ]
    },
    {
      "cell_type": "markdown",
      "metadata": {
        "id": "nStZlM3C3dKC"
      },
      "source": [
        "# K Nearest Neighbour"
      ]
    },
    {
      "cell_type": "code",
      "execution_count": null,
      "metadata": {
        "colab": {
          "base_uri": "https://localhost:8080/",
          "height": 851
        },
        "id": "ZRAGxC4z3bXp",
        "outputId": "cd7da4fe-5702-4579-f9f8-adc6d1e858d3"
      },
      "outputs": [
        {
          "output_type": "display_data",
          "data": {
            "text/plain": [
              "<Figure size 432x288 with 1 Axes>"
            ],
            "image/png": "[encoded data removed]"
          },
          "metadata": {
            "needs_background": "light"
          }
        },
        {
          "output_type": "stream",
          "name": "stdout",
          "text": [
            "Optimum value: k =  29\n",
            "The classification report for the training set is: \n",
            "               precision    recall  f1-score   support\n",
            "\n",
            "           0       0.72      0.58      0.64      1543\n",
            "           1       0.73      0.83      0.78      2081\n",
            "\n",
            "    accuracy                           0.73      3624\n",
            "   macro avg       0.73      0.71      0.71      3624\n",
            "weighted avg       0.73      0.73      0.72      3624\n",
            "\n",
            "The confusion matrix for the training set is:\n",
            "\n",
            "[[ 898  645]\n",
            " [ 345 1736]]\n"
          ]
        },
        {
          "output_type": "display_data",
          "data": {
            "text/plain": [
              "<Figure size 432x288 with 1 Axes>"
            ],
            "image/png": "[encoded data removed]"
          },
          "metadata": {
            "needs_background": "light"
          }
        },
        {
          "output_type": "stream",
          "name": "stdout",
          "text": [
            "AUC score =  0.7796093906445472\n"
          ]
        }
      ],
      "source": [
        "from sklearn.neighbors import KNeighborsClassifier\n",
        "from sklearn.metrics import confusion_matrix, classification_report\n",
        "from sklearn import metrics\n",
        "from sklearn.metrics import accuracy_score\n",
        "import matplotlib.pyplot as plt\n",
        "\n",
        "# Create arrays with zeros to store accuracy data.\n",
        "accuracy_array = np.zeros(80)\n",
        "k_array = np.zeros(80)\n",
        "\n",
        "# Loop through models with increasing values of n_neighbours\n",
        "for k in np.arange(80):\n",
        "    clf_kNN = KNeighborsClassifier(n_neighbors=k+2, weights='distance')\n",
        "    clf_kNN.fit(X_train, y_train)\n",
        "    y_pred=clf_kNN.predict(X_test)\n",
        "\n",
        "    # Store accuracy in an array\n",
        "    accuracy_array[k] = accuracy_score(y_test, y_pred)\n",
        "    k_array[k] = k+2\n",
        "\n",
        "# Plot accuracy against n_neighbours value.  \n",
        "plt.plot(k_array, accuracy_array)\n",
        "plt.xlabel('K value')\n",
        "plt.ylabel('Accuracy')\n",
        "plt.title('K Nearest Neighbours Accuracy Evaluation')\n",
        "plt.savefig('KNN_Accuracy.png')\n",
        "plt.show()\n",
        "\n",
        "print(\"Optimum value: k = \", list(accuracy_array).index(max(accuracy_array))+2)\n",
        "    \n",
        "# Use the n_neighbours value with the highest accuracy to make the final model.\n",
        "clf_kNN = KNeighborsClassifier(n_neighbors=list(accuracy_array).index(max(accuracy_array))+2, weights='distance')\n",
        "clf_kNN.fit(X_train, y_train)\n",
        "y_pred=clf_kNN.predict(X_test)\n",
        "y_conf=clf_kNN.predict_proba(X_test)\n",
        "\n",
        "# Get classification report of the model.\n",
        "report_test = classification_report(y_test,y_pred)\n",
        "print(f'The classification report for the training set is: \\n {report_test}')\n",
        "print('The confusion matrix for the training set is:\\n')\n",
        "print(confusion_matrix(y_test, y_pred))\n",
        "\n",
        "\n",
        "from sklearn.metrics import roc_curve\n",
        "from sklearn.metrics import roc_auc_score\n",
        " \n",
        "# Plot ROC curve \n",
        "fpr, tpr, thresholds = roc_curve(y_test, y_conf[:,1], pos_label=1)\n",
        "plt.figure(1)\n",
        "plt.plot([0, 1], [0, 1], 'k--')\n",
        "plt.plot(fpr, tpr, label='ROC')\n",
        "plt.xlabel('False positive rate')\n",
        "plt.ylabel('True positive rate')\n",
        "plt.title('KNN ROC curve')\n",
        "plt.legend(loc='best')\n",
        "plt.savefig('KNN_roc.png')\n",
        "plt.show()\n",
        "\n",
        "\n",
        "auc_score = roc_auc_score(y_test, y_conf[:,1])\n",
        "print(\"AUC score = \", auc_score)\n",
        "\n",
        "\n"
      ]
    },
    {
      "cell_type": "code",
      "execution_count": null,
      "metadata": {
        "colab": {
          "base_uri": "https://localhost:8080/"
        },
        "id": "GzyvtTw33fNY",
        "outputId": "6ed64d6a-0c3c-4649-fd97-eeefb9e9bba6"
      },
      "outputs": [
        {
          "output_type": "stream",
          "name": "stdout",
          "text": [
            "Average cross validation score =  0.6369756831612576\n"
          ]
        }
      ],
      "source": [
        "from sklearn.model_selection import cross_val_score\n",
        "# Get cross validation score\n",
        "scores = cross_val_score(clf_kNN, X, y, cv=5)\n",
        "print(\"Average cross validation score = \", np.mean(scores))"
      ]
    },
    {
      "cell_type": "markdown",
      "metadata": {
        "id": "urd5mDMU4GDc"
      },
      "source": [
        "# SVM"
      ]
    },
    {
      "cell_type": "code",
      "execution_count": null,
      "metadata": {
        "colab": {
          "base_uri": "https://localhost:8080/",
          "height": 851
        },
        "id": "X5RXM40X4EO7",
        "outputId": "c7de4dee-d671-44b5-8e5d-159ed03626c6"
      },
      "outputs": [
        {
          "output_type": "display_data",
          "data": {
            "text/plain": [
              "<Figure size 432x288 with 1 Axes>"
            ],
            "image/png": "[encoded data removed]"
          },
          "metadata": {
            "needs_background": "light"
          }
        },
        {
          "output_type": "stream",
          "name": "stdout",
          "text": [
            "Best model =  rbf\n",
            "The classification report for the training set is: \n",
            "               precision    recall  f1-score   support\n",
            "\n",
            "           0       0.73      0.66      0.70      1543\n",
            "           1       0.77      0.82      0.79      2081\n",
            "\n",
            "    accuracy                           0.75      3624\n",
            "   macro avg       0.75      0.74      0.74      3624\n",
            "weighted avg       0.75      0.75      0.75      3624\n",
            "\n",
            "The confusion matrix for the training set is:\n",
            "\n",
            "[[1021  522]\n",
            " [ 374 1707]]\n"
          ]
        },
        {
          "output_type": "display_data",
          "data": {
            "text/plain": [
              "<Figure size 432x288 with 1 Axes>"
            ],
            "image/png": "[encoded data removed]"
          },
          "metadata": {
            "needs_background": "light"
          }
        },
        {
          "output_type": "stream",
          "name": "stdout",
          "text": [
            "AUC score =  0.816471778268524\n"
          ]
        }
      ],
      "source": [
        "from sklearn.svm import SVC\n",
        "from sklearn import svm\n",
        "\n",
        "kernels = ['rbf', 'linear', 'poly']\n",
        "\n",
        "# Create array with zeros to store accuracy data.\n",
        "accuracy_array = np.zeros(3)\n",
        "\n",
        "# Loop through models with different types of kernels\n",
        "for i, kernel in enumerate(kernels):\n",
        "    model = svm.SVC(kernel=kernel)\n",
        "    clf = model.fit(X_train, y_train)\n",
        "    y_pred=clf.predict(X_test)\n",
        "    accuracy_array[i] = accuracy_score(y_test, y_pred)\n",
        "\n",
        "# Plot bar graph of accuracy of different kernels\n",
        "plt.bar(kernels, accuracy_array)\n",
        "plt.xlabel('Kernel')\n",
        "plt.ylabel('Accuracy')\n",
        "plt.title('SVM Kernels Accuracy Evaluation')\n",
        "plt.savefig('svm_accuracy.png')\n",
        "plt.show()\n",
        "\n",
        "# Take the best kernel and use it to make the final SVM model \n",
        "print(\"Best model = \", kernels[list(accuracy_array).index(max(accuracy_array))])\n",
        "model = svm.SVC(kernel=kernels[list(accuracy_array).index(max(accuracy_array))], probability = True)\n",
        "clf = model.fit(X_train, y_train)\n",
        "y_pred=clf.predict(X_test)\n",
        "y_conf=clf.predict_proba(X_test)\n",
        "\n",
        "# Get classification report.\n",
        "report_test = classification_report(y_test,y_pred)\n",
        "print(f'The classification report for the training set is: \\n {report_test}')\n",
        "print('The confusion matrix for the training set is:\\n')\n",
        "print(confusion_matrix(y_test, y_pred))\n",
        "\n",
        "# Plot ROC curve\n",
        "fpr, tpr, thresholds = roc_curve(y_test, y_conf[:,1], pos_label=1)\n",
        "plt.figure(1)\n",
        "plt.plot([0, 1], [0, 1], 'k--')\n",
        "plt.plot(fpr, tpr, label='ROC')\n",
        "plt.xlabel('False positive rate')\n",
        "plt.ylabel('True positive rate')\n",
        "plt.title('SVM ROC curve')\n",
        "plt.legend(loc='best')\n",
        "plt.savefig('svm_roc.png')\n",
        "plt.show()\n",
        "\n",
        "\n",
        "auc_score = roc_auc_score(y_test, y_conf[:,1])\n",
        "print(\"AUC score = \", auc_score)\n"
      ]
    },
    {
      "cell_type": "code",
      "execution_count": null,
      "metadata": {
        "id": "RdQP_l7r4LgV"
      },
      "outputs": [],
      "source": [
        "# Takes long to compute. Uncomment to calculate cross validation score.  Average cross validation score is 0.685\n",
        "#scores = cross_val_score(clf, X, y, cv=5)\n",
        "#print(\"Average cross validation score = \", np.mean(scores))"
      ]
    },
    {
      "cell_type": "markdown",
      "metadata": {
        "id": "TjNiWIvE4aZi"
      },
      "source": [
        "# Decision Tree"
      ]
    },
    {
      "cell_type": "code",
      "execution_count": null,
      "metadata": {
        "id": "JmnJZWc94b6I",
        "colab": {
          "base_uri": "https://localhost:8080/",
          "height": 851
        },
        "outputId": "e710a537-e357-4e62-b47c-0d601104b921"
      },
      "outputs": [
        {
          "output_type": "display_data",
          "data": {
            "text/plain": [
              "<Figure size 432x288 with 1 Axes>"
            ],
            "image/png": "[encoded data removed]"
          },
          "metadata": {
            "needs_background": "light"
          }
        },
        {
          "output_type": "stream",
          "name": "stdout",
          "text": [
            "Optimum value: max depth =  6\n",
            "The classification report for the training set is: \n",
            "               precision    recall  f1-score   support\n",
            "\n",
            "           0       0.63      0.31      0.42      1543\n",
            "           1       0.63      0.87      0.73      2081\n",
            "\n",
            "    accuracy                           0.63      3624\n",
            "   macro avg       0.63      0.59      0.57      3624\n",
            "weighted avg       0.63      0.63      0.60      3624\n",
            "\n",
            "The confusion matrix for the training set is:\n",
            "\n",
            "[[ 478 1065]\n",
            " [ 280 1801]]\n"
          ]
        },
        {
          "output_type": "display_data",
          "data": {
            "text/plain": [
              "<Figure size 432x288 with 1 Axes>"
            ],
            "image/png": "[encoded data removed]"
          },
          "metadata": {
            "needs_background": "light"
          }
        },
        {
          "output_type": "stream",
          "name": "stdout",
          "text": [
            "AUC score =  0.6540942446596573\n"
          ]
        }
      ],
      "source": [
        "from sklearn.tree import DecisionTreeClassifier\n",
        "from sklearn import tree\n",
        "\n",
        "# Create zero arrays to store accuracy and depth values.\n",
        "accuracy_array = np.zeros(20)\n",
        "depth_array = np.zeros(20)\n",
        "\n",
        "# Loop through models with different values of max_depth\n",
        "for depth in np.arange(20):\n",
        "    model = DecisionTreeClassifier(criterion='entropy',random_state=0, max_depth=depth+1, min_samples_leaf=2)\n",
        "    model.fit(X_train,y_train) \n",
        "    y_pred = model.predict(X_test)\n",
        "    # Store accuracy and depth values in arrats\n",
        "    depth_array[depth] = depth + 1\n",
        "    accuracy_array[depth] = accuracy_score(y_test, y_pred)\n",
        "\n",
        "# Plot accuracy against max_depth \n",
        "plt.plot(depth_array, accuracy_array)\n",
        "plt.xlabel('Maximum Depth')\n",
        "plt.ylabel('Accuracy')\n",
        "plt.title('Decision Tree Classifier Accuracy Evaluation')\n",
        "plt.savefig('dtree_accuracy.png')\n",
        "plt.show()\n",
        "\n",
        "# Obtain best depth.\n",
        "good_depth = list(accuracy_array).index(max(accuracy_array))+1\n",
        "\n",
        "print(\"Optimum value: max depth = \", good_depth)\n",
        "\n",
        "# Create final decision tree model using best depth\n",
        "model = DecisionTreeClassifier(criterion='entropy',random_state=0, max_depth=good_depth, min_samples_leaf=2)\n",
        "model.fit(X_train,y_train) \n",
        "y_pred = model.predict(X_test)\n",
        "y_conf=model.predict_proba(X_test)\n",
        "\n",
        "# Get classification report and confusion matrix\n",
        "report_test = classification_report(y_test,y_pred)\n",
        "print(f'The classification report for the training set is: \\n {report_test}')\n",
        "print('The confusion matrix for the training set is:\\n')\n",
        "print(confusion_matrix(y_test, y_pred))\n",
        "\n",
        "# Plot ROC curve\n",
        "fpr, tpr, thresholds = roc_curve(y_test, y_conf[:,1], pos_label=1)\n",
        "plt.figure(1)\n",
        "plt.plot([0, 1], [0, 1], 'k--')\n",
        "plt.plot(fpr, tpr, label='ROC')\n",
        "plt.xlabel('False positive rate')\n",
        "plt.ylabel('True positive rate')\n",
        "plt.title('Decision Tree ROC curve')\n",
        "plt.legend(loc='best')\n",
        "plt.savefig('dtree_roc.png')\n",
        "plt.show()\n",
        "\n",
        "\n",
        "auc_score = roc_auc_score(y_test, y_conf[:,1])\n",
        "print(\"AUC score = \", auc_score)\n",
        "\n"
      ]
    },
    {
      "cell_type": "code",
      "execution_count": null,
      "metadata": {
        "colab": {
          "base_uri": "https://localhost:8080/"
        },
        "id": "r9hzhgHo4g--",
        "outputId": "32f3099a-0cea-4a33-b485-93e31b5354c3"
      },
      "outputs": [
        {
          "output_type": "stream",
          "name": "stdout",
          "text": [
            "Average cross validation score =  0.5896996901265545\n"
          ]
        }
      ],
      "source": [
        "scores = cross_val_score(model, X, y, cv=5)\n",
        "print(\"Average cross validation score = \", np.mean(scores))"
      ]
    },
    {
      "cell_type": "markdown",
      "metadata": {
        "id": "AQ4sfZjUCwqO"
      },
      "source": [
        "# AdaBoost Classifier"
      ]
    },
    {
      "cell_type": "code",
      "execution_count": null,
      "metadata": {
        "colab": {
          "base_uri": "https://localhost:8080/",
          "height": 555
        },
        "id": "J-NUAKg95xS1",
        "outputId": "83443298-bd4c-4ba8-fb77-f3f9d92fcf94"
      },
      "outputs": [
        {
          "output_type": "stream",
          "name": "stdout",
          "text": [
            "The classification report for the training set is: \n",
            "               precision    recall  f1-score   support\n",
            "\n",
            "           0       0.64      0.56      0.60      1543\n",
            "           1       0.70      0.77      0.73      2081\n",
            "\n",
            "    accuracy                           0.68      3624\n",
            "   macro avg       0.67      0.66      0.67      3624\n",
            "weighted avg       0.68      0.68      0.68      3624\n",
            "\n",
            "The confusion matrix for the training set is:\n",
            "\n",
            "[[ 869  674]\n",
            " [ 487 1594]]\n"
          ]
        },
        {
          "output_type": "display_data",
          "data": {
            "text/plain": [
              "<Figure size 432x288 with 1 Axes>"
            ],
            "image/png": "[encoded data removed]"
          },
          "metadata": {
            "needs_background": "light"
          }
        },
        {
          "output_type": "stream",
          "name": "stdout",
          "text": [
            "AUC score =  0.7372208136885184\n"
          ]
        }
      ],
      "source": [
        "from sklearn.ensemble import AdaBoostClassifier\n",
        "from sklearn.linear_model import LogisticRegression\n",
        "\n",
        "# Create AdaBoost classifier model with logistic regression as base estimator\n",
        "lr = LogisticRegression()\n",
        "clf_A = AdaBoostClassifier(n_estimators=100, random_state=0, base_estimator = lr)\n",
        "clf_A.fit(X_train, y_train)\n",
        "y_pred = clf_A.predict(X_test)\n",
        "y_conf=clf_A.predict_proba(X_test)\n",
        "\n",
        "# Get classification report and confusion matrix\n",
        "report_test = classification_report(y_test,y_pred)\n",
        "print(f'The classification report for the training set is: \\n {report_test}')\n",
        "print('The confusion matrix for the training set is:\\n')\n",
        "print(confusion_matrix(y_test, y_pred))\n",
        "\n",
        "# Plot ROC curve \n",
        "fpr, tpr, thresholds = roc_curve(y_test, y_conf[:,1], pos_label=1)\n",
        "plt.figure(1)\n",
        "plt.plot([0, 1], [0, 1], 'k--')\n",
        "plt.plot(fpr, tpr, label='ROC')\n",
        "plt.xlabel('False positive rate')\n",
        "plt.ylabel('True positive rate')\n",
        "plt.title('AdaBoost ROC curve')\n",
        "plt.legend(loc='best')\n",
        "plt.savefig('ada_roc.png')\n",
        "plt.show()\n",
        "\n",
        "auc_score = roc_auc_score(y_test, y_conf[:,1])\n",
        "print(\"AUC score = \", auc_score)"
      ]
    },
    {
      "cell_type": "code",
      "source": [
        "# Get cross validation score\n",
        "scores = cross_val_score(clf_A, X, y, cv=5)\n",
        "print(\"Average cross validation score = \", np.mean(scores))"
      ],
      "metadata": {
        "colab": {
          "base_uri": "https://localhost:8080/"
        },
        "id": "_QCTbeZ-sN3G",
        "outputId": "b3527e28-37fb-4530-f0b5-dbc23ed79036"
      },
      "execution_count": null,
      "outputs": [
        {
          "output_type": "stream",
          "name": "stdout",
          "text": [
            "Average cross validation score =  0.6705866000301647\n"
          ]
        }
      ]
    }
  ],
  "metadata": {
    "colab": {
      "name": "Coursework1.ipynb",
      "provenance": [],
      "collapsed_sections": [],
      "authorship_tag": "ABX9TyMeD4r6e94ZVF4HPqLH6UKb",
      "include_colab_link": true
    },
    "kernelspec": {
      "display_name": "Python 3",
      "name": "python3"
    },
    "language_info": {
      "name": "python"
    }
  },
  "nbformat": 4,
  "nbformat_minor": 0
}